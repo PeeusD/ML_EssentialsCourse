{
  "nbformat": 4,
  "nbformat_minor": 0,
  "metadata": {
    "colab": {
      "name": "Assigmt1ML.ipynb",
      "provenance": [],
      "collapsed_sections": []
    },
    "kernelspec": {
      "name": "python3",
      "display_name": "Python 3"
    },
    "language_info": {
      "name": "python"
    }
  },
  "cells": [
    {
      "cell_type": "markdown",
      "source": [
        "**Assignment 1: Do operations on 2d array using numpy**"
      ],
      "metadata": {
        "id": "MmYIx5c1cQUb"
      }
    },
    {
      "cell_type": "code",
      "execution_count": 2,
      "metadata": {
        "colab": {
          "base_uri": "https://localhost:8080/"
        },
        "id": "nJyOz5oCb9uV",
        "outputId": "c6040496-d886-4f27-f891-bd7c425d2760"
      },
      "outputs": [
        {
          "output_type": "execute_result",
          "data": {
            "text/plain": [
              "numpy.ndarray"
            ]
          },
          "metadata": {},
          "execution_count": 2
        }
      ],
      "source": [
        "import numpy as np\n",
        "#Using List\n",
        "arr = np.array([1,2,3,4,5,6])\n",
        "arr\n",
        "type(arr)"
      ]
    },
    {
      "cell_type": "code",
      "source": [
        "#Using Tuple\n",
        "arr = np.array((1,2,3,4,5,6))\n",
        "type(arr)\n"
      ],
      "metadata": {
        "colab": {
          "base_uri": "https://localhost:8080/"
        },
        "id": "Tp8V2o1xd73p",
        "outputId": "6bfa9f7d-ed48-4f87-99c1-88d4081b37db"
      },
      "execution_count": 14,
      "outputs": [
        {
          "output_type": "execute_result",
          "data": {
            "text/plain": [
              "numpy.ndarray"
            ]
          },
          "metadata": {},
          "execution_count": 14
        }
      ]
    },
    {
      "cell_type": "code",
      "source": [
        "#Checking dimension\n",
        "arr.ndim"
      ],
      "metadata": {
        "colab": {
          "base_uri": "https://localhost:8080/"
        },
        "id": "DzMyc4QtiFDv",
        "outputId": "ea5f9656-4f72-4bf1-c2d3-a77e91706ad4"
      },
      "execution_count": 15,
      "outputs": [
        {
          "output_type": "execute_result",
          "data": {
            "text/plain": [
              "1"
            ]
          },
          "metadata": {},
          "execution_count": 15
        }
      ]
    },
    {
      "cell_type": "markdown",
      "source": [
        "Operation on 2d  arrray"
      ],
      "metadata": {
        "id": "Q7Zn_VfOcNdF"
      }
    },
    {
      "cell_type": "code",
      "source": [
        "arr2 = np.array([[1,2,3,4],[5,6,7,8]])\n",
        "arr2"
      ],
      "metadata": {
        "colab": {
          "base_uri": "https://localhost:8080/"
        },
        "id": "v4n_XhXUfNgM",
        "outputId": "9528243f-a727-4a0f-e749-02ed4a01e5f3"
      },
      "execution_count": 9,
      "outputs": [
        {
          "output_type": "execute_result",
          "data": {
            "text/plain": [
              "array([[1, 2, 3, 4],\n",
              "       [5, 6, 7, 8]])"
            ]
          },
          "metadata": {},
          "execution_count": 9
        }
      ]
    },
    {
      "cell_type": "code",
      "source": [
        "#Checking dimension\n",
        "arr2.ndim"
      ],
      "metadata": {
        "colab": {
          "base_uri": "https://localhost:8080/"
        },
        "id": "o11li9oKjmGX",
        "outputId": "84e434fc-4ed3-4839-d0df-de5dfd177a8c"
      },
      "execution_count": 16,
      "outputs": [
        {
          "output_type": "execute_result",
          "data": {
            "text/plain": [
              "2"
            ]
          },
          "metadata": {},
          "execution_count": 16
        }
      ]
    },
    {
      "cell_type": "markdown",
      "source": [
        "Operation on 3d array"
      ],
      "metadata": {
        "id": "R99-LkbdgQY6"
      }
    },
    {
      "cell_type": "code",
      "source": [
        "arr3 = np.array([[[1,2,3],[4,5,6]], [[7,8,9],[10,11,12]]])\n",
        "arr3"
      ],
      "metadata": {
        "colab": {
          "base_uri": "https://localhost:8080/"
        },
        "id": "ZOnWcnoKgOBZ",
        "outputId": "7b13f9be-efa9-4ba6-c580-b24b71946715"
      },
      "execution_count": 12,
      "outputs": [
        {
          "output_type": "execute_result",
          "data": {
            "text/plain": [
              "array([[[ 1,  2,  3],\n",
              "        [ 4,  5,  6]],\n",
              "\n",
              "       [[ 7,  8,  9],\n",
              "        [10, 11, 12]]])"
            ]
          },
          "metadata": {},
          "execution_count": 12
        }
      ]
    },
    {
      "cell_type": "code",
      "source": [
        "#Checking dimension\n",
        "arr3.ndim"
      ],
      "metadata": {
        "colab": {
          "base_uri": "https://localhost:8080/"
        },
        "id": "egyxYGDSfcuf",
        "outputId": "65d0a47d-d946-4796-f30a-ca0c97e64830"
      },
      "execution_count": 17,
      "outputs": [
        {
          "output_type": "execute_result",
          "data": {
            "text/plain": [
              "3"
            ]
          },
          "metadata": {},
          "execution_count": 17
        }
      ]
    },
    {
      "cell_type": "markdown",
      "source": [
        "Operation on multi-dimensional array"
      ],
      "metadata": {
        "id": "OaZXbqXfj3Hd"
      }
    },
    {
      "cell_type": "code",
      "source": [
        "mularr = np.array([1,2,3,4], ndmin=5)\n",
        "mularr"
      ],
      "metadata": {
        "colab": {
          "base_uri": "https://localhost:8080/"
        },
        "id": "V1bLZCQ_jttW",
        "outputId": "719014ce-4232-45f0-fdcb-1fe39270e46e"
      },
      "execution_count": 19,
      "outputs": [
        {
          "output_type": "execute_result",
          "data": {
            "text/plain": [
              "array([[[[[1, 2, 3, 4]]]]])"
            ]
          },
          "metadata": {},
          "execution_count": 19
        }
      ]
    },
    {
      "cell_type": "code",
      "source": [
        "#Checking dimension\n",
        "mularr.ndim"
      ],
      "metadata": {
        "colab": {
          "base_uri": "https://localhost:8080/"
        },
        "id": "Klgo18IokMiO",
        "outputId": "310672b3-b3ba-4a51-a460-f7f62c9bd0d7"
      },
      "execution_count": 21,
      "outputs": [
        {
          "output_type": "execute_result",
          "data": {
            "text/plain": [
              "5"
            ]
          },
          "metadata": {},
          "execution_count": 21
        }
      ]
    },
    {
      "cell_type": "code",
      "source": [
        ""
      ],
      "metadata": {
        "id": "v-am6OnEkg-5"
      },
      "execution_count": null,
      "outputs": []
    }
  ]
}