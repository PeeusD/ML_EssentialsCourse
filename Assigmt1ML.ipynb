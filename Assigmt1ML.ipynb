{
  "nbformat": 4,
  "nbformat_minor": 0,
  "metadata": {
    "colab": {
      "name": "Assigmt1ML.ipynb",
      "provenance": [],
      "collapsed_sections": []
    },
    "kernelspec": {
      "name": "python3",
      "display_name": "Python 3"
    },
    "language_info": {
      "name": "python"
    }
  },
  "cells": [
    {
      "cell_type": "markdown",
      "source": [
        "**Assignment 1:**\n",
        "* Create an array of integers between -10 and 10\n",
        "   Run the following code to create a NumPy array D\n",
        "   D = np.array(range(18)) + 3\n",
        "* Extract every other value from array D starting from the 2nd value through \n",
        "the 10th value. Store the result in a variable called x.\n",
        "* Extract every other value from array D starting from the 10th value through the 2nd value. Store the result in a variable called y.\n",
        "* Create a variable z that contains all of the values in D in reverse order.\n",
        "* How are NumPy Arrays better than Lists in Python?  \n",
        "* Explain the data types supported by Numpy.\n"
      ],
      "metadata": {
        "id": "MmYIx5c1cQUb"
      }
    },
    {
      "cell_type": "code",
      "execution_count": 47,
      "metadata": {
        "id": "nJyOz5oCb9uV"
      },
      "outputs": [],
      "source": [
        "import numpy as np\n",
        "import random\n"
      ]
    },
    {
      "cell_type": "markdown",
      "source": [
        "Create an array of integers between -10 and 10 Run the following code to create a NumPy array D D = np.array(range(18)) + 3"
      ],
      "metadata": {
        "id": "rvOEmYOJzogV"
      }
    },
    {
      "cell_type": "code",
      "source": [
        "arr = np.random.randint(-10,10,(6,5))\n",
        "arr"
      ],
      "metadata": {
        "colab": {
          "base_uri": "https://localhost:8080/"
        },
        "id": "BaibWpD7zsuN",
        "outputId": "b6ac57a0-0247-4b0a-c95c-53fa19fc4e3e"
      },
      "execution_count": 48,
      "outputs": [
        {
          "output_type": "execute_result",
          "data": {
            "text/plain": [
              "array([[-10,   4,  -7,  -9,   8],\n",
              "       [ -5,   9,   4,  -7,  -4],\n",
              "       [-10,   8,   5,   2,   6],\n",
              "       [  4,   7,   9,  -7,  -1],\n",
              "       [  4,   4,   6,   2,  -3],\n",
              "       [  5,   8,  -2,  -1,   5]])"
            ]
          },
          "metadata": {},
          "execution_count": 48
        }
      ]
    },
    {
      "cell_type": "code",
      "source": [
        "D = np.array(range(18)) + 3\n",
        "D"
      ],
      "metadata": {
        "colab": {
          "base_uri": "https://localhost:8080/"
        },
        "id": "Tp8V2o1xd73p",
        "outputId": "adbabde0-c6dc-40ec-ca6c-60fdf230bf5a"
      },
      "execution_count": 49,
      "outputs": [
        {
          "output_type": "execute_result",
          "data": {
            "text/plain": [
              "array([ 3,  4,  5,  6,  7,  8,  9, 10, 11, 12, 13, 14, 15, 16, 17, 18, 19,\n",
              "       20])"
            ]
          },
          "metadata": {},
          "execution_count": 49
        }
      ]
    },
    {
      "cell_type": "markdown",
      "source": [
        "Extract every other value from array D starting from the 2nd value through the 10th value. Store the result in a variable called x."
      ],
      "metadata": {
        "id": "YIpSqeKc556B"
      }
    },
    {
      "cell_type": "code",
      "source": [
        "x = D[1:10]\n",
        "x"
      ],
      "metadata": {
        "colab": {
          "base_uri": "https://localhost:8080/"
        },
        "id": "DzMyc4QtiFDv",
        "outputId": "c81c855c-d0c8-4429-dd7f-779c0903805e"
      },
      "execution_count": 50,
      "outputs": [
        {
          "output_type": "execute_result",
          "data": {
            "text/plain": [
              "array([ 4,  5,  6,  7,  8,  9, 10, 11, 12])"
            ]
          },
          "metadata": {},
          "execution_count": 50
        }
      ]
    },
    {
      "cell_type": "markdown",
      "source": [
        "Extract every other value from array D starting from the 10th value through the 2nd value. Store the result in a variable called y."
      ],
      "metadata": {
        "id": "LuVnU555_oAn"
      }
    },
    {
      "cell_type": "code",
      "source": [
        "y = D[9:0:-1]\n",
        "y"
      ],
      "metadata": {
        "colab": {
          "base_uri": "https://localhost:8080/"
        },
        "id": "F1n90ckI_pSk",
        "outputId": "39a59663-2515-41bc-9212-10a68435d224"
      },
      "execution_count": 60,
      "outputs": [
        {
          "output_type": "execute_result",
          "data": {
            "text/plain": [
              "array([12, 11, 10,  9,  8,  7,  6,  5,  4])"
            ]
          },
          "metadata": {},
          "execution_count": 60
        }
      ]
    },
    {
      "cell_type": "markdown",
      "source": [
        "Create a variable z that contains all of the values in D in reverse order."
      ],
      "metadata": {
        "id": "Q7Zn_VfOcNdF"
      }
    },
    {
      "cell_type": "code",
      "source": [
        "z = D[::-1]\n",
        "z"
      ],
      "metadata": {
        "colab": {
          "base_uri": "https://localhost:8080/"
        },
        "id": "59jdRFR4ERXv",
        "outputId": "77bb72c3-2b17-4e7b-a8b2-133182c2199f"
      },
      "execution_count": 61,
      "outputs": [
        {
          "output_type": "execute_result",
          "data": {
            "text/plain": [
              "array([20, 19, 18, 17, 16, 15, 14, 13, 12, 11, 10,  9,  8,  7,  6,  5,  4,\n",
              "        3])"
            ]
          },
          "metadata": {},
          "execution_count": 61
        }
      ]
    },
    {
      "cell_type": "markdown",
      "source": [
        "How are NumPy Arrays better than Lists in Python?\n"
      ],
      "metadata": {
        "id": "bfw50HogEsg1"
      }
    },
    {
      "cell_type": "code",
      "source": [
        "'''Ans: Although both behaves same but there are differences between the two:-\n",
        "-Numpy array is a library developed using C language but list is a data structure developed in python.\n",
        "-Numpy is Faster that that of List.\n",
        "-Numpy takes less memory for allocation than List.\n",
        "-Numpy used in high end numerical computaions whereas, list are widely used for storing objects in programming.'''"
      ],
      "metadata": {
        "id": "v4n_XhXUfNgM"
      },
      "execution_count": null,
      "outputs": []
    },
    {
      "cell_type": "markdown",
      "source": [
        "Explain the data types supported by Numpy."
      ],
      "metadata": {
        "id": "Ox8-7Hp0GirJ"
      }
    },
    {
      "cell_type": "code",
      "source": [
        "'''Numpy supports more datatypes regardless of Python:-\n",
        "-Boolean\n",
        "-Integer\n",
        "-Float\n",
        "-unsigned Integer\n",
        "-TimeDelta\n",
        "-Unsigned Float\n",
        "-String\n",
        "-Unicode String\n",
        "-chunk of memory(Void)\n",
        "-Coimplex Float\n",
        "-Object\n",
        "'''"
      ],
      "metadata": {
        "id": "zMh0xeASHa74"
      },
      "execution_count": null,
      "outputs": []
    }
  ]
}